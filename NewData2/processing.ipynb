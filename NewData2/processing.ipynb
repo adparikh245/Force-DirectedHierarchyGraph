{
 "cells": [
  {
   "cell_type": "code",
   "execution_count": 17,
   "metadata": {},
   "outputs": [
    {
     "name": "stdout",
     "output_type": "stream",
     "text": [
      "Selected communities: [8, 3, 5, 6, 14]\n",
      "Total selected nodes: 2599\n",
      "✅ Done! Filtered files saved to:\n",
      "• filtered_lastfm_features_5com.json\n",
      "• filtered_lastfm_edges_5com.txt\n",
      "• filtered_lastfm_community_5com.json\n"
     ]
    }
   ],
   "source": [
    "import pandas as pd\n",
    "import json\n",
    "from collections import defaultdict\n",
    "\n",
    "# === Step 1: Load original data using your full paths ===\n",
    "edges_df = pd.read_csv(\"/Users/ananyaparikh/Documents/Coding/Force-DirectedHierarchyGraph/NewData2/lastfm_asia_edges.csv\")\n",
    "target_df = pd.read_csv(\"/Users/ananyaparikh/Documents/Coding/Force-DirectedHierarchyGraph/NewData2/lastfm_asia_target.csv\")\n",
    "\n",
    "with open(\"/Users/ananyaparikh/Documents/Coding/Force-DirectedHierarchyGraph/NewData2/lastfm_asia_features.json\") as f:\n",
    "    features_dict = json.load(f)\n",
    "\n",
    "# === Step 2: Group node IDs by community ===\n",
    "community_to_nodes = defaultdict(list)\n",
    "for _, row in target_df.iterrows():\n",
    "    community_to_nodes[row['target']].append(str(row['id']))\n",
    "\n",
    "# === Step 3: Select 5 communities with 500–600 nodes each ===\n",
    "selected_communities = [c for c, nodes in community_to_nodes.items() if 300 <= len(nodes) <= 800][:5]\n",
    "if len(selected_communities) < 5:\n",
    "    print(\"⚠️ Only found\", len(selected_communities), \"communities in the target size range.\")\n",
    "selected_nodes = set()\n",
    "for c in selected_communities:\n",
    "    selected_nodes.update(community_to_nodes[c])\n",
    "\n",
    "print(f\"Selected communities: {selected_communities}\")\n",
    "print(f\"Total selected nodes: {len(selected_nodes)}\")\n",
    "\n",
    "# === Step 4: Filter features ===\n",
    "filtered_features = {nid: features_dict[nid] for nid in selected_nodes if nid in features_dict}\n",
    "\n",
    "# === Step 5: Filter edges ===\n",
    "filtered_edges_df = edges_df[\n",
    "    edges_df['node_1'].astype(str).isin(selected_nodes) &\n",
    "    edges_df['node_2'].astype(str).isin(selected_nodes)\n",
    "]\n",
    "\n",
    "# === Step 6: Filter targets ===\n",
    "filtered_target_df = target_df[target_df['id'].astype(str).isin(selected_nodes)]\n",
    "\n",
    "# === Step 7: Save as correctly formatted files ===\n",
    "\n",
    "# Save features as JSON\n",
    "with open(\"/Users/ananyaparikh/Documents/Coding/Force-DirectedHierarchyGraph/NewData2/filtered_lastfm_features_5com.json\", \"w\") as f:\n",
    "    json.dump(filtered_features, f, indent=2)\n",
    "\n",
    "# Save edges as .txt file (space-separated format)\n",
    "with open(\"/Users/ananyaparikh/Documents/Coding/Force-DirectedHierarchyGraph/NewData2/filtered_lastfm_edges_5com.txt\", \"w\") as f:\n",
    "    for _, row in filtered_edges_df.iterrows():\n",
    "        f.write(f\"{row['node_1']} {row['node_2']}\\n\")\n",
    "\n",
    "# Save community mapping as JSON\n",
    "filtered_community_map = {\n",
    "    str(row['id']): int(row['target']) for _, row in filtered_target_df.iterrows()\n",
    "}\n",
    "with open(\"/Users/ananyaparikh/Documents/Coding/Force-DirectedHierarchyGraph/NewData2/filtered_lastfm_community_5com.json\", \"w\") as f:\n",
    "    json.dump(filtered_community_map, f, indent=2)\n",
    "\n",
    "print(\"✅ Done! Filtered files saved to:\")\n",
    "print(\"• filtered_lastfm_features_5com.json\")\n",
    "print(\"• filtered_lastfm_edges_5com.txt\")\n",
    "print(\"• filtered_lastfm_community_5com.json\")"
   ]
  },
  {
   "cell_type": "code",
   "execution_count": 16,
   "metadata": {},
   "outputs": [
    {
     "name": "stdout",
     "output_type": "stream",
     "text": [
      "Number of nodes: 2599\n",
      "Number of edges: 8121\n",
      "Communities and counts:\n",
      "target\n",
      "6     655\n",
      "14    570\n",
      "3     515\n",
      "8     468\n",
      "5     391\n",
      "Name: count, dtype: int64\n"
     ]
    }
   ],
   "source": [
    "# Load files\n",
    "edges = pd.read_csv(\"filtered_lastfm_edges.csv\")\n",
    "targets = pd.read_csv(\"filtered_lastfm_target.csv\")\n",
    "with open(\"filtered_lastfm_features.json\") as f:\n",
    "    features = json.load(f)\n",
    "\n",
    "# Basic stats\n",
    "print(f\"Number of nodes: {len(features)}\")\n",
    "print(f\"Number of edges: {len(edges)}\")\n",
    "print(\"Communities and counts:\")\n",
    "print(targets['target'].value_counts())\n"
   ]
  }
 ],
 "metadata": {
  "kernelspec": {
   "display_name": "Python 3",
   "language": "python",
   "name": "python3"
  },
  "language_info": {
   "codemirror_mode": {
    "name": "ipython",
    "version": 3
   },
   "file_extension": ".py",
   "mimetype": "text/x-python",
   "name": "python",
   "nbconvert_exporter": "python",
   "pygments_lexer": "ipython3",
   "version": "3.12.1"
  }
 },
 "nbformat": 4,
 "nbformat_minor": 2
}
