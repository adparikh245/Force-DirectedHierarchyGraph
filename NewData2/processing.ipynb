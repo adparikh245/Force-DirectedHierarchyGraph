{
 "cells": [
  {
   "cell_type": "code",
   "execution_count": 12,
   "metadata": {},
   "outputs": [
    {
     "name": "stdout",
     "output_type": "stream",
     "text": [
      "Selected communities: [8, 3, 5, 6, 14]\n",
      "Total selected nodes: 2599\n",
      "Filtered files saved as:\n",
      "• filtered_lastfm_features_5com.json\n",
      "• filtered_lastfm_edges_5com.csv\n",
      "• filtered_lastfm_target_5com.csv\n"
     ]
    }
   ],
   "source": [
    "import pandas as pd\n",
    "import json\n",
    "from collections import defaultdict\n",
    "\n",
    "# === Step 1: Load files ===\n",
    "edges_df = pd.read_csv(\"/Users/ananyaparikh/Documents/Coding/Force-DirectedHierarchyGraph/NewData2/lastfm_asia_edges.csv\")\n",
    "target_df = pd.read_csv(\"/Users/ananyaparikh/Documents/Coding/Force-DirectedHierarchyGraph/NewData2/lastfm_asia_target.csv\")\n",
    "\n",
    "with open(\"/Users/ananyaparikh/Documents/Coding/Force-DirectedHierarchyGraph/NewData2/lastfm_asia_features.json\") as f:\n",
    "    features_dict = json.load(f)\n",
    "\n",
    "# === Group node IDs by community ===\n",
    "community_to_nodes = defaultdict(list)\n",
    "for _, row in target_df.iterrows():\n",
    "    community_to_nodes[row['target']].append(str(row['id']))\n",
    "\n",
    "# === Automatically pick 5 communities with 300–800 nodes \n",
    "selected_communities = [c for c, nodes in community_to_nodes.items() if 300 <= len(nodes) <= 800][:5]\n",
    "\n",
    "if len(selected_communities) < 5:\n",
    "    print(\"Not enough communities with 500–600 nodes. Only found:\", len(selected_communities))\n",
    "\n",
    "# Collect node IDs from these communities\n",
    "selected_nodes = set()\n",
    "for c in selected_communities:\n",
    "    selected_nodes.update(community_to_nodes[c])\n",
    "\n",
    "print(f\"Selected communities: {selected_communities}\")\n",
    "print(f\"Total selected nodes: {len(selected_nodes)}\")\n",
    "\n",
    "# === Filter features.json ===\n",
    "filtered_features = {nid: features_dict[nid] for nid in selected_nodes if nid in features_dict}\n",
    "\n",
    "# === Filter edges.csv ===\n",
    "filtered_edges_df = edges_df[\n",
    "    edges_df['node_1'].astype(str).isin(selected_nodes) &\n",
    "    edges_df['node_2'].astype(str).isin(selected_nodes)\n",
    "]\n",
    "\n",
    "# === Filter target.csv ===\n",
    "filtered_target_df = target_df[target_df['id'].astype(str).isin(selected_nodes)]\n",
    "\n",
    "# === Save filtered files ===\n",
    "with open(\"filtered_lastfm_features.json\", \"w\") as f:\n",
    "    json.dump(filtered_features, f, indent=2)\n",
    "\n",
    "filtered_edges_df.to_csv(\"filtered_lastfm_edges.csv\", index=False)\n",
    "filtered_target_df.to_csv(\"filtered_lastfm_target.csv\", index=False)\n",
    "\n",
    "print(\"Filtered files saved as:\")\n",
    "print(\"• filtered_lastfm_features_5com.json\")\n",
    "print(\"• filtered_lastfm_edges_5com.csv\")\n",
    "print(\"• filtered_lastfm_target_5com.csv\")"
   ]
  },
  {
   "cell_type": "code",
   "execution_count": 13,
   "metadata": {},
   "outputs": [
    {
     "name": "stdout",
     "output_type": "stream",
     "text": [
      "Number of nodes: 2599\n",
      "Number of edges: 8121\n",
      "Communities and counts:\n",
      "target\n",
      "6     655\n",
      "14    570\n",
      "3     515\n",
      "8     468\n",
      "5     391\n",
      "Name: count, dtype: int64\n"
     ]
    }
   ],
   "source": [
    "# Load files\n",
    "edges = pd.read_csv(\"filtered_lastfm_edges.csv\")\n",
    "targets = pd.read_csv(\"filtered_lastfm_target.csv\")\n",
    "with open(\"filtered_lastfm_features.json\") as f:\n",
    "    features = json.load(f)\n",
    "\n",
    "# Basic stats\n",
    "print(f\"Number of nodes: {len(features)}\")\n",
    "print(f\"Number of edges: {len(edges)}\")\n",
    "print(\"Communities and counts:\")\n",
    "print(targets['target'].value_counts())\n"
   ]
  }
 ],
 "metadata": {
  "kernelspec": {
   "display_name": "Python 3",
   "language": "python",
   "name": "python3"
  },
  "language_info": {
   "codemirror_mode": {
    "name": "ipython",
    "version": 3
   },
   "file_extension": ".py",
   "mimetype": "text/x-python",
   "name": "python",
   "nbconvert_exporter": "python",
   "pygments_lexer": "ipython3",
   "version": "3.12.1"
  }
 },
 "nbformat": 4,
 "nbformat_minor": 2
}
